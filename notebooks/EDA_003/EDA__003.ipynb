{
 "cells": [
  {
   "cell_type": "code",
   "execution_count": 1,
   "metadata": {},
   "outputs": [],
   "source": [
    "import pandas as pd\n",
    "import numpy as np\n",
    "from sqlalchemy import create_engine\n",
    "import os\n",
    "from dotenv import load_dotenv\n",
    "import matplotlib.pyplot as plt"
   ]
  },
  {
   "cell_type": "code",
   "execution_count": 2,
   "metadata": {},
   "outputs": [
    {
     "data": {
      "text/plain": [
       "True"
      ]
     },
     "execution_count": 2,
     "metadata": {},
     "output_type": "execute_result"
    }
   ],
   "source": [
    "dotenv_path = os.path.join(os.getcwd(), '../../credentials.env')\n",
    "load_dotenv(dotenv_path=dotenv_path)"
   ]
  },
  {
   "cell_type": "code",
   "execution_count": 3,
   "metadata": {},
   "outputs": [],
   "source": [
    "#print(os.getenv(\"HOST\"))\n",
    "host=os.getenv(\"HOST\")\n",
    "user=os.getenv(\"USER\")\n",
    "password=os.getenv(\"PASSWORD\")\n",
    "port=os.getenv(\"PORT\")\n",
    "database=os.getenv(\"DATABASE\")\n",
    "dbms=os.getenv(\"DBMS\")\n",
    "# Conectar a PostgreSQL\n",
    "engine = create_engine(f'{dbms}://{user}:{password}@{host}:{port}/{database}')"
   ]
  },
  {
   "cell_type": "code",
   "execution_count": 4,
   "metadata": {},
   "outputs": [],
   "source": [
    "query = 'SELECT * FROM raw_data_candidates'\n",
    "df = pd.read_sql(query, engine)"
   ]
  },
  {
   "cell_type": "code",
   "execution_count": 7,
   "metadata": {},
   "outputs": [],
   "source": [
    "df = pd.DataFrame(df)"
   ]
  },
  {
   "cell_type": "code",
   "execution_count": 8,
   "metadata": {},
   "outputs": [
    {
     "data": {
      "text/html": [
       "<div>\n",
       "<style scoped>\n",
       "    .dataframe tbody tr th:only-of-type {\n",
       "        vertical-align: middle;\n",
       "    }\n",
       "\n",
       "    .dataframe tbody tr th {\n",
       "        vertical-align: top;\n",
       "    }\n",
       "\n",
       "    .dataframe thead th {\n",
       "        text-align: right;\n",
       "    }\n",
       "</style>\n",
       "<table border=\"1\" class=\"dataframe\">\n",
       "  <thead>\n",
       "    <tr style=\"text-align: right;\">\n",
       "      <th></th>\n",
       "      <th>First Name</th>\n",
       "      <th>Last Name</th>\n",
       "      <th>Email</th>\n",
       "      <th>Application Date</th>\n",
       "      <th>Country</th>\n",
       "      <th>YOE</th>\n",
       "      <th>Seniority</th>\n",
       "      <th>Technology</th>\n",
       "      <th>Code Challenge Score</th>\n",
       "      <th>Technical Interview Score</th>\n",
       "    </tr>\n",
       "  </thead>\n",
       "  <tbody>\n",
       "    <tr>\n",
       "      <th>0</th>\n",
       "      <td>Bernadette</td>\n",
       "      <td>Langworth</td>\n",
       "      <td>leonard91@yahoo.com</td>\n",
       "      <td>2021-02-26</td>\n",
       "      <td>Norway</td>\n",
       "      <td>2</td>\n",
       "      <td>Intern</td>\n",
       "      <td>Data Engineer</td>\n",
       "      <td>3</td>\n",
       "      <td>3</td>\n",
       "    </tr>\n",
       "    <tr>\n",
       "      <th>1</th>\n",
       "      <td>Camryn</td>\n",
       "      <td>Reynolds</td>\n",
       "      <td>zelda56@hotmail.com</td>\n",
       "      <td>2021-09-09</td>\n",
       "      <td>Panama</td>\n",
       "      <td>10</td>\n",
       "      <td>Intern</td>\n",
       "      <td>Data Engineer</td>\n",
       "      <td>2</td>\n",
       "      <td>10</td>\n",
       "    </tr>\n",
       "    <tr>\n",
       "      <th>2</th>\n",
       "      <td>Larue</td>\n",
       "      <td>Spinka</td>\n",
       "      <td>okey_schultz41@gmail.com</td>\n",
       "      <td>2020-04-14</td>\n",
       "      <td>Belarus</td>\n",
       "      <td>4</td>\n",
       "      <td>Mid-Level</td>\n",
       "      <td>Client Success</td>\n",
       "      <td>10</td>\n",
       "      <td>9</td>\n",
       "    </tr>\n",
       "    <tr>\n",
       "      <th>3</th>\n",
       "      <td>Arch</td>\n",
       "      <td>Spinka</td>\n",
       "      <td>elvera_kulas@yahoo.com</td>\n",
       "      <td>2020-10-01</td>\n",
       "      <td>Eritrea</td>\n",
       "      <td>25</td>\n",
       "      <td>Trainee</td>\n",
       "      <td>QA Manual</td>\n",
       "      <td>7</td>\n",
       "      <td>1</td>\n",
       "    </tr>\n",
       "    <tr>\n",
       "      <th>4</th>\n",
       "      <td>Larue</td>\n",
       "      <td>Altenwerth</td>\n",
       "      <td>minnie.gislason@gmail.com</td>\n",
       "      <td>2020-05-20</td>\n",
       "      <td>Myanmar</td>\n",
       "      <td>13</td>\n",
       "      <td>Mid-Level</td>\n",
       "      <td>Social Media Community Management</td>\n",
       "      <td>9</td>\n",
       "      <td>7</td>\n",
       "    </tr>\n",
       "  </tbody>\n",
       "</table>\n",
       "</div>"
      ],
      "text/plain": [
       "   First Name   Last Name                      Email Application Date  \\\n",
       "0  Bernadette   Langworth        leonard91@yahoo.com       2021-02-26   \n",
       "1      Camryn    Reynolds        zelda56@hotmail.com       2021-09-09   \n",
       "2       Larue      Spinka   okey_schultz41@gmail.com       2020-04-14   \n",
       "3        Arch      Spinka     elvera_kulas@yahoo.com       2020-10-01   \n",
       "4       Larue  Altenwerth  minnie.gislason@gmail.com       2020-05-20   \n",
       "\n",
       "   Country  YOE  Seniority                         Technology  \\\n",
       "0   Norway    2     Intern                      Data Engineer   \n",
       "1   Panama   10     Intern                      Data Engineer   \n",
       "2  Belarus    4  Mid-Level                     Client Success   \n",
       "3  Eritrea   25    Trainee                          QA Manual   \n",
       "4  Myanmar   13  Mid-Level  Social Media Community Management   \n",
       "\n",
       "   Code Challenge Score  Technical Interview Score  \n",
       "0                     3                          3  \n",
       "1                     2                         10  \n",
       "2                    10                          9  \n",
       "3                     7                          1  \n",
       "4                     9                          7  "
      ]
     },
     "execution_count": 8,
     "metadata": {},
     "output_type": "execute_result"
    }
   ],
   "source": [
    "df.head()"
   ]
  },
  {
   "cell_type": "code",
   "execution_count": 9,
   "metadata": {},
   "outputs": [
    {
     "data": {
      "text/plain": [
       "Index(['First Name', 'Last Name', 'Email', 'Application Date', 'Country',\n",
       "       'YOE', 'Seniority', 'Technology', 'Code Challenge Score',\n",
       "       'Technical Interview Score'],\n",
       "      dtype='object')"
      ]
     },
     "execution_count": 9,
     "metadata": {},
     "output_type": "execute_result"
    }
   ],
   "source": [
    "df.columns"
   ]
  },
  {
   "cell_type": "code",
   "execution_count": 10,
   "metadata": {},
   "outputs": [
    {
     "data": {
      "text/html": [
       "<div>\n",
       "<style scoped>\n",
       "    .dataframe tbody tr th:only-of-type {\n",
       "        vertical-align: middle;\n",
       "    }\n",
       "\n",
       "    .dataframe tbody tr th {\n",
       "        vertical-align: top;\n",
       "    }\n",
       "\n",
       "    .dataframe thead th {\n",
       "        text-align: right;\n",
       "    }\n",
       "</style>\n",
       "<table border=\"1\" class=\"dataframe\">\n",
       "  <thead>\n",
       "    <tr style=\"text-align: right;\">\n",
       "      <th></th>\n",
       "      <th>YOE</th>\n",
       "      <th>Code Challenge Score</th>\n",
       "      <th>Technical Interview Score</th>\n",
       "    </tr>\n",
       "  </thead>\n",
       "  <tbody>\n",
       "    <tr>\n",
       "      <th>count</th>\n",
       "      <td>50000.000000</td>\n",
       "      <td>50000.000000</td>\n",
       "      <td>50000.000000</td>\n",
       "    </tr>\n",
       "    <tr>\n",
       "      <th>mean</th>\n",
       "      <td>15.286980</td>\n",
       "      <td>4.996400</td>\n",
       "      <td>5.003880</td>\n",
       "    </tr>\n",
       "    <tr>\n",
       "      <th>std</th>\n",
       "      <td>8.830652</td>\n",
       "      <td>3.166896</td>\n",
       "      <td>3.165082</td>\n",
       "    </tr>\n",
       "    <tr>\n",
       "      <th>min</th>\n",
       "      <td>0.000000</td>\n",
       "      <td>0.000000</td>\n",
       "      <td>0.000000</td>\n",
       "    </tr>\n",
       "    <tr>\n",
       "      <th>25%</th>\n",
       "      <td>8.000000</td>\n",
       "      <td>2.000000</td>\n",
       "      <td>2.000000</td>\n",
       "    </tr>\n",
       "    <tr>\n",
       "      <th>50%</th>\n",
       "      <td>15.000000</td>\n",
       "      <td>5.000000</td>\n",
       "      <td>5.000000</td>\n",
       "    </tr>\n",
       "    <tr>\n",
       "      <th>75%</th>\n",
       "      <td>23.000000</td>\n",
       "      <td>8.000000</td>\n",
       "      <td>8.000000</td>\n",
       "    </tr>\n",
       "    <tr>\n",
       "      <th>max</th>\n",
       "      <td>30.000000</td>\n",
       "      <td>10.000000</td>\n",
       "      <td>10.000000</td>\n",
       "    </tr>\n",
       "  </tbody>\n",
       "</table>\n",
       "</div>"
      ],
      "text/plain": [
       "                YOE  Code Challenge Score  Technical Interview Score\n",
       "count  50000.000000          50000.000000               50000.000000\n",
       "mean      15.286980              4.996400                   5.003880\n",
       "std        8.830652              3.166896                   3.165082\n",
       "min        0.000000              0.000000                   0.000000\n",
       "25%        8.000000              2.000000                   2.000000\n",
       "50%       15.000000              5.000000                   5.000000\n",
       "75%       23.000000              8.000000                   8.000000\n",
       "max       30.000000             10.000000                  10.000000"
      ]
     },
     "execution_count": 10,
     "metadata": {},
     "output_type": "execute_result"
    }
   ],
   "source": [
    "df.describe()"
   ]
  },
  {
   "cell_type": "code",
   "execution_count": 11,
   "metadata": {},
   "outputs": [
    {
     "name": "stdout",
     "output_type": "stream",
     "text": [
      "<class 'pandas.core.frame.DataFrame'>\n",
      "RangeIndex: 50000 entries, 0 to 49999\n",
      "Data columns (total 10 columns):\n",
      " #   Column                     Non-Null Count  Dtype \n",
      "---  ------                     --------------  ----- \n",
      " 0   First Name                 50000 non-null  object\n",
      " 1   Last Name                  50000 non-null  object\n",
      " 2   Email                      50000 non-null  object\n",
      " 3   Application Date           50000 non-null  object\n",
      " 4   Country                    50000 non-null  object\n",
      " 5   YOE                        50000 non-null  int64 \n",
      " 6   Seniority                  50000 non-null  object\n",
      " 7   Technology                 50000 non-null  object\n",
      " 8   Code Challenge Score       50000 non-null  int64 \n",
      " 9   Technical Interview Score  50000 non-null  int64 \n",
      "dtypes: int64(3), object(7)\n",
      "memory usage: 3.8+ MB\n"
     ]
    }
   ],
   "source": [
    "df.info()"
   ]
  },
  {
   "cell_type": "code",
   "execution_count": 18,
   "metadata": {},
   "outputs": [
    {
     "name": "stdout",
     "output_type": "stream",
     "text": [
      "244\n"
     ]
    }
   ],
   "source": [
    "\"\"\"There's a problem with the name of the countries,\n",
    " 'cause there are more number of countries than the ones that exist in the world.\n",
    " The number of countries in the world it's 195\"\"\"\n",
    "unique_Countries = df['Country'].unique().tolist()\n",
    "print(len(unique_Countries))"
   ]
  },
  {
   "cell_type": "code",
   "execution_count": 16,
   "metadata": {},
   "outputs": [
    {
     "data": {
      "text/plain": [
       "['Intern', 'Mid-Level', 'Trainee', 'Junior', 'Lead', 'Architect', 'Senior']"
      ]
     },
     "execution_count": 16,
     "metadata": {},
     "output_type": "execute_result"
    }
   ],
   "source": [
    "df['Seniority'].unique().tolist()"
   ]
  },
  {
   "cell_type": "code",
   "execution_count": 17,
   "metadata": {},
   "outputs": [
    {
     "data": {
      "text/plain": [
       "['Data Engineer',\n",
       " 'Client Success',\n",
       " 'QA Manual',\n",
       " 'Social Media Community Management',\n",
       " 'Adobe Experience Manager',\n",
       " 'Sales',\n",
       " 'Mulesoft',\n",
       " 'DevOps',\n",
       " 'Development - CMS Backend',\n",
       " 'Salesforce',\n",
       " 'System Administration',\n",
       " 'Security',\n",
       " 'Game Development',\n",
       " 'Development - CMS Frontend',\n",
       " 'Security Compliance',\n",
       " 'Development - Backend',\n",
       " 'Design',\n",
       " 'Business Analytics / Project Management',\n",
       " 'Development - Frontend',\n",
       " 'Development - FullStack',\n",
       " 'Business Intelligence',\n",
       " 'Database Administration',\n",
       " 'QA Automation',\n",
       " 'Technical Writing']"
      ]
     },
     "execution_count": 17,
     "metadata": {},
     "output_type": "execute_result"
    }
   ],
   "source": [
    "df['Technology'].unique().tolist()"
   ]
  },
  {
   "cell_type": "markdown",
   "metadata": {},
   "source": [
    "# Recoding the dataframe"
   ]
  },
  {
   "cell_type": "code",
   "execution_count": 19,
   "metadata": {},
   "outputs": [],
   "source": [
    "#First we need to make a copy of the original dataframe\n",
    "df_Copy = df.copy()"
   ]
  },
  {
   "cell_type": "code",
   "execution_count": 23,
   "metadata": {},
   "outputs": [
    {
     "data": {
      "text/plain": [
       "Index(['First Name', 'Last Name', 'Email', 'Application Date', 'Country',\n",
       "       'YOE', 'Seniority', 'Technology', 'Code Challenge Score',\n",
       "       'Technical Interview Score'],\n",
       "      dtype='object')"
      ]
     },
     "execution_count": 23,
     "metadata": {},
     "output_type": "execute_result"
    }
   ],
   "source": [
    "df_Copy.columns"
   ]
  },
  {
   "cell_type": "code",
   "execution_count": 24,
   "metadata": {},
   "outputs": [],
   "source": [
    "# Rename Columns\n",
    "df_Copy.rename(columns={'First Name': 'Name',\n",
    "                         'Last Name': 'Last_Name',\n",
    "                         'Application Date' : 'Date',\n",
    "                         'Code Challenge Score' : 'Code_Score',\n",
    "                         'Technical Interview Score' : 'Interview_Score'}, inplace=True)"
   ]
  },
  {
   "cell_type": "code",
   "execution_count": 25,
   "metadata": {},
   "outputs": [
    {
     "data": {
      "text/plain": [
       "Index(['Name', 'Last_Name', 'Email', 'Date', 'Country', 'YOE', 'Seniority',\n",
       "       'Technology', 'Code_Score', 'Interview_Score'],\n",
       "      dtype='object')"
      ]
     },
     "execution_count": 25,
     "metadata": {},
     "output_type": "execute_result"
    }
   ],
   "source": [
    "#Confirm the changes\n",
    "df_Copy.columns"
   ]
  },
  {
   "cell_type": "code",
   "execution_count": null,
   "metadata": {},
   "outputs": [],
   "source": [
    "from geopy.geocoders import Nominatim\n",
    "from geopy.exc import GeocoderTimedOut, GeocoderUnavailable\n",
    "import time\n",
    "\n",
    "def get_Country(place):\n",
    "    geolocator = Nominatim(user_agent=\"my_app\")\n",
    "    try:\n",
    "        location = geolocator.geocode(place, exactly_one=True, language=\"en\")\n",
    "        if location:\n",
    "            if 'address' in location.raw:\n",
    "                address = location.raw['address']\n",
    "                country = address.get('country', '')\n",
    "                if country:\n",
    "                    return country\n",
    "            #if no country is found, we return the last part of the display\n",
    "            return location.raw.get('display_name', '').split(', ')[-1]\n",
    "        else:\n",
    "            return place  #if no location is found, we return the original place\n",
    "    except (GeocoderTimedOut, GeocoderUnavailable, KeyError, AttributeError):\n",
    "        return place  #In case of any error, we return the original place\n",
    "\n",
    "#we are going to use the unique values of the column 'Country'\n",
    "unique_Countries = df_Copy['Country'].unique().tolist()\n",
    "\n",
    "#Dictionary to store the normalized countries\n",
    "Normalized_Countries = {}\n",
    "\n",
    "#process each unique country\n",
    "for place in unique_Countries:\n",
    "    pais = get_Country(place)\n",
    "    Normalized_Countries[place] = pais\n",
    "    print(f\"Procesado: {place} -> {pais}\")  #print the progress\n",
    "    time.sleep(1)  # Pause for 1 second to avoid geopy's rate limit\n",
    "\n",
    "#update the column 'Country' with the normalized values\n",
    "df_Copy['Country_Normalized'] = df_Copy['Country'].map(Normalized_Countries)\n",
    "\n",
    "# print the results\n",
    "print(\"\\nFinal Results:\")\n",
    "for place, pais in Normalized_Countries.items():\n",
    "    print(f\"{place}: {pais}\")"
   ]
  },
  {
   "cell_type": "code",
   "execution_count": 32,
   "metadata": {},
   "outputs": [
    {
     "name": "stdout",
     "output_type": "stream",
     "text": [
      "{'Norway': 'Norway', 'Panama': 'Panama', 'Belarus': 'Belarus', 'Eritrea': 'Eritrea', 'Myanmar': 'Myanmar', 'Zimbabwe': 'Zimbabwe', 'Wallis and Futuna': 'France', 'Italy': 'Italy', 'Timor-Leste': 'East Timor', 'Armenia': 'Armenia', 'French Southern Territories': 'France', 'Chad': 'Chad', 'El Salvador': 'El Salvador', 'Mozambique': 'Mozambique', 'Brunei Darussalam': 'Brunei', 'Morocco': 'Morocco', 'Saint Helena': 'Ascension and Tristan da Cunha', 'Portugal': 'Portugal', 'Central African Republic': 'Central African Republic', 'Seychelles': 'Seychelles', 'Dominica': 'Dominican Republic', 'Finland': 'Finland', 'Belgium': 'Belgium', 'Niue': 'Niue', 'Japan': 'Japan', 'Palestinian Territory': 'Palestinian Territories', 'Faroe Islands': 'Faroe Islands', 'Latvia': 'Latvia', 'Saudi Arabia': 'Saudi Arabia', 'Poland': 'Poland', 'Micronesia': 'Federated States of Micronesia', 'Macao': 'China', 'Bangladesh': 'Bangladesh', 'Taiwan': 'Taiwan', 'Slovakia (Slovak Republic)': 'Slovakia', 'Mexico': 'Mexico', 'Nigeria': 'Nigeria', 'Guadeloupe': 'France', 'Bosnia and Herzegovina': 'Bosnia and Herzegovina', 'Guyana': 'Guyana', 'Croatia': 'Croatia', 'Svalbard & Jan Mayen Islands': 'Svalbard & Jan Mayen Islands', 'Yemen': 'Yemen', 'Ukraine': 'Ukraine', 'Zambia': 'Zambia', 'Paraguay': 'Paraguay', 'Puerto Rico': 'United States', 'Madagascar': 'Madagascar', 'Bulgaria': 'Bulgaria', 'Jersey': 'Jersey', 'French Polynesia': 'France', 'United States of America': 'United States', 'Mali': 'Mali', 'Anguilla': 'Anguilla', 'Holy See (Vatican City State)': 'Holy See (Vatican City State)', 'Andorra': 'Andorra', 'Republic of Korea': 'South Korea', 'Turkey': 'Turkey', 'Heard Island and McDonald Islands': 'Australia', 'Malta': 'Malta', 'Liechtenstein': 'Liechtenstein', 'Equatorial Guinea': 'Equatorial Guinea', 'Algeria': 'Algeria', 'Falkland Islands (Malvinas)': 'Falkland Islands', 'Ecuador': 'Ecuador', 'Jamaica': 'Jamaica', 'San Marino': 'San Marino', 'Malawi': 'Malawi', 'Albania': 'Albania', 'Guinea-Bissau': 'Guinea-Bissau', 'Brazil': 'Brazil', 'Cyprus': 'Cyprus', 'Botswana': 'Botswana', 'Kiribati': 'Kiribati', 'Estonia': 'Estonia', 'Nepal': 'Nepal', 'Cook Islands': 'Cook Islands', \"Lao People's Democratic Republic\": 'Laos', 'Vanuatu': 'Vanuatu', 'Mauritania': 'Mauritania', 'Nauru': 'Nauru', 'Trinidad and Tobago': 'Trinidad and Tobago', 'Gibraltar': 'Gibraltar', 'Pitcairn Islands': 'Pitcairn Islands', 'Montenegro': 'Montenegro', 'Antarctica (the territory South of 60 deg S)': 'Antarctica (the territory South of 60 deg S)', 'Sudan': 'Sudan', 'Honduras': 'Honduras', 'Cayman Islands': 'Cayman Islands', 'France': 'France', 'Virgin Islands British': 'British Virgin Islands', 'Iran': 'Iran', 'Barbados': 'Barbados', 'Turks and Caicos Islands': 'Turks and Caicos Islands', 'India': 'India', 'Malaysia': 'Malaysia', 'Austria': 'Austria', 'Burkina Faso': 'Burkina Faso', 'Moldova': 'Moldova', 'Serbia': 'Serbia', 'Indonesia': 'Indonesia', 'United Kingdom': 'United Kingdom', 'Haiti': 'Haiti', 'Hong Kong': 'China', 'British Indian Ocean Territory (Chagos Archipelago)': 'British Indian Ocean Territory', 'Denmark': 'Denmark', 'Tunisia': 'Tunisia', 'Bhutan': 'Bhutan', 'Kyrgyz Republic': 'Kyrgyzstan', 'Afghanistan': 'Afghanistan', 'Grenada': 'Grenada', 'Maldives': 'Maldives', 'Togo': 'Togo', 'Congo': 'Democratic Republic of the Congo', 'Belize': 'Belize', \"Cote d'Ivoire\": \"Côte d'Ivoire\", 'Marshall Islands': 'Marshall Islands', 'Guam': 'United States', 'Ghana': 'Ghana', 'American Samoa': 'United States', 'Israel': 'Israel', 'Libyan Arab Jamahiriya': 'Libya', 'Lesotho': 'Lesotho', 'Samoa': 'Samoa', 'Kenya': 'Kenya', 'Saint Pierre and Miquelon': 'France', 'Jordan': 'Jordan', 'Bahamas': 'Bahamas', 'Bahrain': 'Bahrain', 'Nicaragua': 'Nicaragua', 'Djibouti': 'Djibouti', 'Saint Lucia': 'Saint Lucia', 'Kazakhstan': 'Kazakhstan', 'Tonga': 'Tonga', 'Angola': 'Angola', 'Saint Martin': 'France', 'Reunion': 'France', 'Niger': 'Niger', 'United States Minor Outlying Islands': 'United States', 'Antigua and Barbuda': 'Antigua and Barbuda', \"Democratic People's Republic of Korea\": 'North Korea', 'Thailand': 'Thailand', 'Philippines': 'Philippines', 'Western Sahara': 'Morocco', 'Bermuda': 'Bermuda', 'Gambia': 'The Gambia', 'Virgin Islands U.S.': 'United States', 'Slovenia': 'Slovenia', 'Turkmenistan': 'Turkmenistan', 'Montserrat': 'Montserrat', 'Saint Barthelemy': 'France', 'Senegal': 'Senegal', 'Saint Kitts and Nevis': 'Saint Kitts and Nevis', 'Mauritius': 'Mauritius', 'Rwanda': 'Rwanda', 'China': 'China', 'Tokelau': 'Tokelau', 'Greece': 'Greece', 'Papua New Guinea': 'Papua New Guinea', 'Fiji': 'Fiji', 'Cuba': 'Cuba', 'Australia': 'Australia', 'Egypt': 'Egypt', 'Mongolia': 'Mongolia', 'Namibia': 'Namibia', 'Iceland': 'Iceland', 'Guatemala': 'Guatemala', 'Solomon Islands': 'Solomon Islands', 'Tanzania': 'Tanzania', 'Sweden': 'Sweden', 'Swaziland': 'Eswatini', 'Saint Vincent and the Grenadines': 'Saint Vincent and the Grenadines', 'Sierra Leone': 'Sierra Leone', 'Somalia': 'Somalia', 'Oman': 'Oman', 'Argentina': 'Argentina', 'Bolivia': 'Bolivia', 'Luxembourg': 'Luxembourg', 'Venezuela': 'Venezuela', 'Macedonia': 'North Macedonia', 'Netherlands Antilles': 'Netherlands', 'Syrian Arab Republic': 'Syria', 'Qatar': 'Qatar', 'United Arab Emirates': 'United Arab Emirates', 'Sri Lanka': 'Sri Lanka', 'New Caledonia': 'New Caledonia (EEZ)', 'Comoros': 'Comoros', 'Uzbekistan': 'Uzbekistan', 'Cocos (Keeling) Islands': 'Australia', 'Azerbaijan': 'Azerbaijan', 'Russian Federation': 'Russia', 'Chile': 'Chile', 'Cambodia': 'Cambodia', 'Czech Republic': 'Czechia', 'Martinique': 'France', 'Guinea': 'Guinea', 'Singapore': 'Singapore', 'Colombia': 'Colombia', 'Germany': 'Germany', 'Aruba': 'Netherlands', 'Kuwait': 'Kuwait', 'Cape Verde': 'Cape Verde', 'Burundi': 'Burundi', 'Liberia': 'Liberia', 'Norfolk Island': 'Australia', 'Pakistan': 'Pakistan', 'Isle of Man': 'Isle of Man', 'Ireland': 'Ireland', 'Northern Mariana Islands': 'United States', 'Bouvet Island (Bouvetoya)': 'Norway', 'Greenland': 'Greenland', 'Costa Rica': 'Costa Rica', 'Netherlands': 'Netherlands', 'South Africa': 'South Africa', 'Canada': 'Canada', 'Lebanon': 'Lebanon', 'New Zealand': 'New Zealand', 'Uruguay': 'Uruguay', 'Dominican Republic': 'Dominican Republic', 'Lithuania': 'Lithuania', 'Ethiopia': 'Ethiopia', 'Cameroon': 'Cameroon', 'Iraq': 'Iraq', 'Guernsey': 'Guernsey', 'Peru': 'Peru', 'Tajikistan': 'Tajikistan', 'Vietnam': 'Vietnam', 'Palau': 'Palau', 'Monaco': 'Monaco', 'French Guiana': 'France', 'South Georgia and the South Sandwich Islands': 'South Georgia and the South Sandwich Islands', 'Spain': 'Spain', 'Christmas Island': 'Australia', 'Tuvalu': 'Tuvalu', 'Georgia': 'Georgia', 'Switzerland': 'Switzerland', 'Suriname': 'Suriname', 'Hungary': 'Hungary', 'Gabon': 'Gabon', 'Sao Tome and Principe': 'São Tomé and Príncipe', 'Mayotte': 'France', 'Benin': 'Benin', 'Uganda': 'Uganda', 'Romania': 'Romania'}\n"
     ]
    }
   ],
   "source": [
    "print(Normalized_Countries)"
   ]
  },
  {
   "cell_type": "code",
   "execution_count": 40,
   "metadata": {},
   "outputs": [],
   "source": [
    "df_Copy['Country'] = df_Copy['Country'].map(Normalized_Countries)"
   ]
  },
  {
   "cell_type": "code",
   "execution_count": 33,
   "metadata": {},
   "outputs": [
    {
     "name": "stdout",
     "output_type": "stream",
     "text": [
      "216\n"
     ]
    }
   ],
   "source": [
    "print(len(set(Normalized_Countries.values())))"
   ]
  },
  {
   "cell_type": "code",
   "execution_count": 41,
   "metadata": {},
   "outputs": [
    {
     "data": {
      "text/html": [
       "<div>\n",
       "<style scoped>\n",
       "    .dataframe tbody tr th:only-of-type {\n",
       "        vertical-align: middle;\n",
       "    }\n",
       "\n",
       "    .dataframe tbody tr th {\n",
       "        vertical-align: top;\n",
       "    }\n",
       "\n",
       "    .dataframe thead th {\n",
       "        text-align: right;\n",
       "    }\n",
       "</style>\n",
       "<table border=\"1\" class=\"dataframe\">\n",
       "  <thead>\n",
       "    <tr style=\"text-align: right;\">\n",
       "      <th></th>\n",
       "      <th>Name</th>\n",
       "      <th>Last_Name</th>\n",
       "      <th>Email</th>\n",
       "      <th>Date</th>\n",
       "      <th>Country</th>\n",
       "      <th>YOE</th>\n",
       "      <th>Seniority</th>\n",
       "      <th>Technology</th>\n",
       "      <th>Code_Score</th>\n",
       "      <th>Interview_Score</th>\n",
       "    </tr>\n",
       "  </thead>\n",
       "  <tbody>\n",
       "    <tr>\n",
       "      <th>0</th>\n",
       "      <td>Bernadette</td>\n",
       "      <td>Langworth</td>\n",
       "      <td>leonard91@yahoo.com</td>\n",
       "      <td>2021-02-26</td>\n",
       "      <td>Norway</td>\n",
       "      <td>2</td>\n",
       "      <td>Intern</td>\n",
       "      <td>Data Engineer</td>\n",
       "      <td>3</td>\n",
       "      <td>3</td>\n",
       "    </tr>\n",
       "    <tr>\n",
       "      <th>1</th>\n",
       "      <td>Camryn</td>\n",
       "      <td>Reynolds</td>\n",
       "      <td>zelda56@hotmail.com</td>\n",
       "      <td>2021-09-09</td>\n",
       "      <td>Panama</td>\n",
       "      <td>10</td>\n",
       "      <td>Intern</td>\n",
       "      <td>Data Engineer</td>\n",
       "      <td>2</td>\n",
       "      <td>10</td>\n",
       "    </tr>\n",
       "    <tr>\n",
       "      <th>2</th>\n",
       "      <td>Larue</td>\n",
       "      <td>Spinka</td>\n",
       "      <td>okey_schultz41@gmail.com</td>\n",
       "      <td>2020-04-14</td>\n",
       "      <td>Belarus</td>\n",
       "      <td>4</td>\n",
       "      <td>Mid-Level</td>\n",
       "      <td>Client Success</td>\n",
       "      <td>10</td>\n",
       "      <td>9</td>\n",
       "    </tr>\n",
       "    <tr>\n",
       "      <th>3</th>\n",
       "      <td>Arch</td>\n",
       "      <td>Spinka</td>\n",
       "      <td>elvera_kulas@yahoo.com</td>\n",
       "      <td>2020-10-01</td>\n",
       "      <td>Eritrea</td>\n",
       "      <td>25</td>\n",
       "      <td>Trainee</td>\n",
       "      <td>QA Manual</td>\n",
       "      <td>7</td>\n",
       "      <td>1</td>\n",
       "    </tr>\n",
       "    <tr>\n",
       "      <th>4</th>\n",
       "      <td>Larue</td>\n",
       "      <td>Altenwerth</td>\n",
       "      <td>minnie.gislason@gmail.com</td>\n",
       "      <td>2020-05-20</td>\n",
       "      <td>Myanmar</td>\n",
       "      <td>13</td>\n",
       "      <td>Mid-Level</td>\n",
       "      <td>Social Media Community Management</td>\n",
       "      <td>9</td>\n",
       "      <td>7</td>\n",
       "    </tr>\n",
       "  </tbody>\n",
       "</table>\n",
       "</div>"
      ],
      "text/plain": [
       "         Name   Last_Name                      Email        Date  Country  \\\n",
       "0  Bernadette   Langworth        leonard91@yahoo.com  2021-02-26   Norway   \n",
       "1      Camryn    Reynolds        zelda56@hotmail.com  2021-09-09   Panama   \n",
       "2       Larue      Spinka   okey_schultz41@gmail.com  2020-04-14  Belarus   \n",
       "3        Arch      Spinka     elvera_kulas@yahoo.com  2020-10-01  Eritrea   \n",
       "4       Larue  Altenwerth  minnie.gislason@gmail.com  2020-05-20  Myanmar   \n",
       "\n",
       "   YOE  Seniority                         Technology  Code_Score  \\\n",
       "0    2     Intern                      Data Engineer           3   \n",
       "1   10     Intern                      Data Engineer           2   \n",
       "2    4  Mid-Level                     Client Success          10   \n",
       "3   25    Trainee                          QA Manual           7   \n",
       "4   13  Mid-Level  Social Media Community Management           9   \n",
       "\n",
       "   Interview_Score  \n",
       "0                3  \n",
       "1               10  \n",
       "2                9  \n",
       "3                1  \n",
       "4                7  "
      ]
     },
     "execution_count": 41,
     "metadata": {},
     "output_type": "execute_result"
    }
   ],
   "source": [
    "df_Copy.head()"
   ]
  },
  {
   "cell_type": "code",
   "execution_count": 51,
   "metadata": {},
   "outputs": [
    {
     "name": "stdout",
     "output_type": "stream",
     "text": [
      "Number of reapplicants: 165\n"
     ]
    },
    {
     "data": {
      "text/html": [
       "<div>\n",
       "<style scoped>\n",
       "    .dataframe tbody tr th:only-of-type {\n",
       "        vertical-align: middle;\n",
       "    }\n",
       "\n",
       "    .dataframe tbody tr th {\n",
       "        vertical-align: top;\n",
       "    }\n",
       "\n",
       "    .dataframe thead th {\n",
       "        text-align: right;\n",
       "    }\n",
       "</style>\n",
       "<table border=\"1\" class=\"dataframe\">\n",
       "  <thead>\n",
       "    <tr style=\"text-align: right;\">\n",
       "      <th></th>\n",
       "      <th>Email</th>\n",
       "      <th>Technology</th>\n",
       "      <th>Code_Score</th>\n",
       "      <th>Interview_Score</th>\n",
       "      <th>ApplicationsCount</th>\n",
       "    </tr>\n",
       "  </thead>\n",
       "  <tbody>\n",
       "    <tr>\n",
       "      <th>93</th>\n",
       "      <td>abbigail94@yahoo.com</td>\n",
       "      <td>[Client Success, DevOps]</td>\n",
       "      <td>[5, 6]</td>\n",
       "      <td>[8, 2]</td>\n",
       "      <td>2</td>\n",
       "    </tr>\n",
       "    <tr>\n",
       "      <th>420</th>\n",
       "      <td>addison_bode@hotmail.com</td>\n",
       "      <td>[Development - Backend, Database Administration]</td>\n",
       "      <td>[7, 10]</td>\n",
       "      <td>[2, 3]</td>\n",
       "      <td>2</td>\n",
       "    </tr>\n",
       "    <tr>\n",
       "      <th>1137</th>\n",
       "      <td>alberta95@gmail.com</td>\n",
       "      <td>[Salesforce, Adobe Experience Manager]</td>\n",
       "      <td>[9, 7]</td>\n",
       "      <td>[1, 2]</td>\n",
       "      <td>2</td>\n",
       "    </tr>\n",
       "    <tr>\n",
       "      <th>1163</th>\n",
       "      <td>alberto11@yahoo.com</td>\n",
       "      <td>[Business Intelligence, Sales]</td>\n",
       "      <td>[2, 0]</td>\n",
       "      <td>[9, 4]</td>\n",
       "      <td>2</td>\n",
       "    </tr>\n",
       "    <tr>\n",
       "      <th>1286</th>\n",
       "      <td>alejandra17@hotmail.com</td>\n",
       "      <td>[Development - Backend, Development - FullStack]</td>\n",
       "      <td>[6, 2]</td>\n",
       "      <td>[10, 9]</td>\n",
       "      <td>2</td>\n",
       "    </tr>\n",
       "  </tbody>\n",
       "</table>\n",
       "</div>"
      ],
      "text/plain": [
       "                         Email  \\\n",
       "93        abbigail94@yahoo.com   \n",
       "420   addison_bode@hotmail.com   \n",
       "1137       alberta95@gmail.com   \n",
       "1163       alberto11@yahoo.com   \n",
       "1286   alejandra17@hotmail.com   \n",
       "\n",
       "                                            Technology Code_Score  \\\n",
       "93                            [Client Success, DevOps]     [5, 6]   \n",
       "420   [Development - Backend, Database Administration]    [7, 10]   \n",
       "1137            [Salesforce, Adobe Experience Manager]     [9, 7]   \n",
       "1163                    [Business Intelligence, Sales]     [2, 0]   \n",
       "1286  [Development - Backend, Development - FullStack]     [6, 2]   \n",
       "\n",
       "     Interview_Score  ApplicationsCount  \n",
       "93            [8, 2]                  2  \n",
       "420           [2, 3]                  2  \n",
       "1137          [1, 2]                  2  \n",
       "1163          [9, 4]                  2  \n",
       "1286         [10, 9]                  2  "
      ]
     },
     "execution_count": 51,
     "metadata": {},
     "output_type": "execute_result"
    }
   ],
   "source": [
    "grouped_df = df_Copy.groupby('Email').agg({\n",
    "    'Technology': list,\n",
    "    'Code_Score': list,\n",
    "    'Interview_Score': list,\n",
    "    'Email': 'size'\n",
    "}).rename(columns={'Email': 'ApplicationsCount'}).reset_index()\n",
    "\n",
    "filtered_df = grouped_df[grouped_df['ApplicationsCount'] > 1]\n",
    "\n",
    "print(f\"Number of reapplicants: {filtered_df.shape[0]}\")\n",
    "filtered_df.head(5)"
   ]
  },
  {
   "cell_type": "code",
   "execution_count": null,
   "metadata": {},
   "outputs": [],
   "source": [
    "# Drop duplicates\n",
    "df_unique = df_Copy.drop_duplicates(subset='Email')\n",
    "\n",
    "#transform the column 'Date' to datetime\n",
    "df_unique['Date'] = pd.to_datetime(df_unique['Date'])\n",
    "\n",
    "#extract the year from the date\n",
    "df_unique['Date'] = df_unique['Date'].dt.year\n",
    "\n",
    "#count the number of applications per year\n",
    "applications_per_year = df_unique['Date'].value_counts().sort_index()\n",
    "\n",
    "#show the plot\n",
    "applications_per_year.plot(kind='bar')\n",
    "plt.xlabel('Year')\n",
    "plt.ylabel('Number of Applications')\n",
    "plt.title('Number of Applications per Year')\n",
    "plt.xticks(rotation=0)\n",
    "plt.show()\n"
   ]
  },
  {
   "cell_type": "code",
   "execution_count": null,
   "metadata": {},
   "outputs": [],
   "source": [
    "df_sorted = df_Copy.drop_duplicates(subset='Email')\n",
    "#group by technology and count the number of applications\n",
    "df_sorted = df_Copy.groupby('Technology').size().sort_values(ascending=False).reset_index(name='Count')\n",
    "\n",
    "#create a color palette\n",
    "green_yellow_palette = plt.cm.YlGn(np.linspace(0, 1, len(df_sorted['Technology'])))[::-1]\n",
    "\n",
    "#create the bar plot\n",
    "plt.figure(figsize=(15, 6))\n",
    "bars = plt.barh(df_sorted['Technology'], df_sorted['Count'], color=green_yellow_palette)\n",
    "\n",
    "#add the count values on top of the bars\n",
    "for bar in bars:\n",
    "    plt.annotate(f'{int(bar.get_width())}', \n",
    "                 xy=(bar.get_width(), bar.get_y() + bar.get_height() / 2),\n",
    "                 ha='center', va='center', xytext=(20, 0), textcoords='offset points')\n",
    "\n",
    "#set the labels and title\n",
    "plt.xlabel('Count')\n",
    "plt.ylabel('Technology')\n",
    "plt.title('Count of Technologies')\n",
    "plt.grid(False)\n",
    "plt.show()"
   ]
  },
  {
   "cell_type": "code",
   "execution_count": null,
   "metadata": {},
   "outputs": [],
   "source": [
    "fig, ax = plt.subplots()\n",
    "\n",
    "#create the boxplot\n",
    "ax.boxplot([df_Copy[df_Copy['Seniority'] == category]['YOE'] for category in df_Copy['Seniority'].unique()])\n",
    "\n",
    "#customize the plot\n",
    "ax.set_xticklabels(df_Copy['Seniority'].unique())\n",
    "ax.set_xlabel('Seniority')\n",
    "ax.set_ylabel('Years of Experience (YOE)')\n",
    "ax.set_title('Distribution of Years of Experience by Seniority')\n",
    "\n",
    "plt.show()"
   ]
  }
 ],
 "metadata": {
  "kernelspec": {
   "display_name": "workshop-001-ZpZ2l3WU-py3.12",
   "language": "python",
   "name": "python3"
  },
  "language_info": {
   "codemirror_mode": {
    "name": "ipython",
    "version": 3
   },
   "file_extension": ".py",
   "mimetype": "text/x-python",
   "name": "python",
   "nbconvert_exporter": "python",
   "pygments_lexer": "ipython3",
   "version": "3.12.3"
  }
 },
 "nbformat": 4,
 "nbformat_minor": 2
}
